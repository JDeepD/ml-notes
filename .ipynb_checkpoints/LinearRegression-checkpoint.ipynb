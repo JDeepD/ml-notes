{
 "cells": [
  {
   "cell_type": "code",
   "execution_count": null,
   "id": "c7248024-d95f-43f0-b438-29555ecace4c",
   "metadata": {},
   "outputs": [],
   "source": [
    "import numpy as np\n",
    "import matplotlib.pyplot as plt\n",
    "import random"
   ]
  },
  {
   "cell_type": "code",
   "execution_count": null,
   "id": "6b8fffcc-e4b4-41ff-93f6-caf2cc5ede6b",
   "metadata": {},
   "outputs": [],
   "source": [
    "def gen_data(r_min: int = -2, r_max: int = 2, rng: int = 20):\n",
    "    x = np.arange(rng)\n",
    "    y = np.arange(rng)\n",
    "    for i in range(len(y)):\n",
    "        # Generate a random rv and add that to y[i]\n",
    "        # to get random scatter plot\n",
    "        rv = random.randint(r_min,r_max)\n",
    "        y[i] = y[i] + rv\n",
    "    \n",
    "    return x, y"
   ]
  },
  {
   "cell_type": "code",
   "execution_count": 109,
   "id": "05bfc99b-de5f-4a3d-8182-c2246a6bf421",
   "metadata": {},
   "outputs": [
    {
     "name": "stdout",
     "output_type": "stream",
     "text": [
      "-0.06713445262682971 0.941210606432104\n"
     ]
    },
    {
     "data": {
      "text/plain": [
       "<matplotlib.lines._AxLine at 0x7f87d9480f40>"
      ]
     },
     "execution_count": 109,
     "metadata": {},
     "output_type": "execute_result"
    },
    {
     "data": {
      "image/png": "[encoded data removed]",
      "text/plain": [
       "<Figure size 432x288 with 1 Axes>"
      ]
     },
     "metadata": {
      "needs_background": "light"
     },
     "output_type": "display_data"
    }
   ],
   "source": [
    "def hypothesis(theta0, theta1, x):\n",
    "    return theta0 + theta1*x\n",
    "\n",
    "\n",
    "def gradient_descent(X:np.ndarray, Y:np.ndarray, epoch: int = 1000, alpha: float = 0.0001):\n",
    "    theta0 = 0\n",
    "    theta1 = 0\n",
    "    m = len(Y)\n",
    "    for it in range(epoch):\n",
    "        theta0 = theta0 - (alpha/m)*np.sum(hypothesis(theta0, theta1, X) - Y)\n",
    "        theta1 = theta1 - (alpha/m)*np.sum((hypothesis(theta0, theta1, X) - Y)*X)\n",
    "\n",
    "    return theta0, theta1\n",
    "\n",
    "\n",
    "X, Y = gen_data(r_min = -20, r_max = 10, rng=100)\n",
    "plt.scatter(X, Y)\n",
    "\n",
    "t0, t1 = gradient_descent(X, Y)\n",
    "print(t0, t1)\n",
    "plt.axline((0, t0), slope = t1)\n"
   ]
  },
  {
   "cell_type": "code",
   "execution_count": null,
   "id": "c0f331f9-2727-47c8-9a39-a2985fde7049",
   "metadata": {},
   "outputs": [],
   "source": []
  }
 ],
 "metadata": {
  "kernelspec": {
   "display_name": "Python 3 (ipykernel)",
   "language": "python",
   "name": "python3"
  },
  "language_info": {
   "codemirror_mode": {
    "name": "ipython",
    "version": 3
   },
   "file_extension": ".py",
   "mimetype": "text/x-python",
   "name": "python",
   "nbconvert_exporter": "python",
   "pygments_lexer": "ipython3",
   "version": "3.10.2"
  }
 },
 "nbformat": 4,
 "nbformat_minor": 5
}
